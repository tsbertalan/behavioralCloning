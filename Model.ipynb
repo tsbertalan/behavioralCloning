{
 "cells": [
  {
   "cell_type": "code",
   "execution_count": null,
   "metadata": {},
   "outputs": [],
   "source": [
    "import keras, numpy as np, matplotlib as mpl, matplotlib.pyplot as plt, tqdm\n",
    "import os.path\n",
    "import time\n",
    "%matplotlib inline"
   ]
  },
  {
   "cell_type": "code",
   "execution_count": null,
   "metadata": {},
   "outputs": [],
   "source": [
    "import nnUtils"
   ]
  },
  {
   "cell_type": "code",
   "execution_count": null,
   "metadata": {},
   "outputs": [],
   "source": [
    "import sklearn, sklearn.model_selection"
   ]
  },
  {
   "cell_type": "code",
   "execution_count": null,
   "metadata": {},
   "outputs": [],
   "source": [
    "datadir = os.path.join(os.path.expanduser('~'), 'data2', 'behavioralCloning')"
   ]
  },
  {
   "cell_type": "code",
   "execution_count": null,
   "metadata": {},
   "outputs": [],
   "source": [
    "# data = np.load(os.path.join(datadir, 'multiData-mouseForwardFuller.npz'))\n",
    "# X = data['X']\n",
    "# Y = data['Y'][:, 0].reshape(-1, 1)"
   ]
  },
  {
   "cell_type": "code",
   "execution_count": null,
   "metadata": {},
   "outputs": [],
   "source": [
    "!ls ~/data2/behavioralCloning/*.zip"
   ]
  },
  {
   "cell_type": "code",
   "execution_count": null,
   "metadata": {},
   "outputs": [],
   "source": [
    "import loadData\n",
    "\n",
    "from importlib import reload\n",
    "reload(loadData);"
   ]
  },
  {
   "cell_type": "code",
   "execution_count": null,
   "metadata": {
    "scrolled": false
   },
   "outputs": [],
   "source": [
    "dataGenerator = loadData.DataGenerator(\n",
    "    [\n",
    "        os.path.join(loadData.HOME, 'data2', 'behavioralCloning', p)\n",
    "        for p in (\n",
    "            'mouseForward.zip',\n",
    "            'mouseReverse.zip',\n",
    "            'dirtSidesForward.zip',\n",
    "            'dirtSidesReverse.zip',\n",
    "        )\n",
    "    ],\n",
    "    MAXDATA=2000,\n",
    "    responseKeys=('steering',),# 'throttle', 'brake',)\n",
    "    #verbose=False,\n",
    ")"
   ]
  },
  {
   "cell_type": "code",
   "execution_count": null,
   "metadata": {},
   "outputs": [],
   "source": [
    "modelname = 'inceptionv3_deeper_wider-mfwd_sidecams-fullgen-junglecenter-tanh-normalInput'"
   ]
  },
  {
   "cell_type": "code",
   "execution_count": null,
   "metadata": {},
   "outputs": [],
   "source": [
    "def prod(it):\n",
    "    out = 1\n",
    "    for x in it:\n",
    "        try:\n",
    "            out *= float(x)\n",
    "        except TypeError:\n",
    "            out *= int(x)\n",
    "    return out"
   ]
  },
  {
   "cell_type": "code",
   "execution_count": null,
   "metadata": {},
   "outputs": [],
   "source": [
    "%%time\n",
    "def VGG(\n",
    "    nout=1, input_shape=dataGenerator.sampleImageShape, doCompile=True, \n",
    "    loss='mse', optimizer='nadam', metrics=['accuracy', 'mae'],\n",
    "    ):\n",
    "    \n",
    "    # Normalize.\n",
    "    x = keras.layers.Input(input_shape)\n",
    "    x = keras.layers.Lambda(lambda y: (y / 255.0) - 0.5)(x)\n",
    "    \n",
    "    model = keras.applications.inception_v3.InceptionV3(\n",
    "        include_top=False, \n",
    "        weights='imagenet', \n",
    "        input_tensor=x,\n",
    "        #input_shape=input_shape, \n",
    "        #pooling=None, \n",
    "        #classes=1000\n",
    "    )\n",
    "    img_input = model.layers[0].input\n",
    "    nUnfrozen = sum([prod(w.shape) for w in model.trainable_weights])\n",
    "    for layer in model.layers:\n",
    "        layer.trainable = False\n",
    "    \n",
    "    # Get flattened output.\n",
    "    x = model.layers[-1].output\n",
    "    print('Pretrained model provides {:,} features.'.format(prod(x.shape[1:])))\n",
    "    x = keras.layers.Flatten()(x)\n",
    "    \n",
    "    \n",
    "    # Add layers.\n",
    "    init = dict(bias_initializer='zeros', kernel_initializer='glorot_normal')\n",
    "    x = keras.layers.Dense(16, activation='relu', **init)(x)\n",
    "#     for k in range(3):\n",
    "#         x = keras.layers.Dense(16, activation='relu', **init)(x)\n",
    "#     x = keras.layers.Dense(16, activation='tanh', name='tanh')(x)\n",
    "#     x = keras.layers.Dense(nout, activation='linear', name='predictions')(x)\n",
    "    for k in range(4):\n",
    "        x = keras.layers.Dense(16, activation='relu', **init)(x)\n",
    "    x = keras.layers.Dense(nout, activation='tanh', name='tanh')(x)\n",
    "    \n",
    "    model = keras.Model(inputs=img_input, outputs=x)\n",
    "    \n",
    "    nFrozen = sum([prod(w.shape) for w in model.trainable_weights])\n",
    "    print(\"Freezing reduces trainable size from {:,} to {:,} parameters.\".format(nUnfrozen, nFrozen))\n",
    "    \n",
    "    if doCompile:\n",
    "        model.compile(\n",
    "            loss=loss,\n",
    "            optimizer=optimizer,\n",
    "            metrics=metrics,\n",
    "        )\n",
    "    return model\n",
    "\n",
    "model = VGG(\n",
    "    optimizer=keras.optimizers.Nadam(\n",
    "        lr=0.0001, #beta_1=0.9, beta_2=0.999, epsilon=1e-08, schedule_decay=0.004)\n",
    "    )\n",
    ")\n"
   ]
  },
  {
   "cell_type": "code",
   "execution_count": null,
   "metadata": {},
   "outputs": [],
   "source": [
    "from nnUtils import fitModelWithDataGenerator"
   ]
  },
  {
   "cell_type": "code",
   "execution_count": null,
   "metadata": {},
   "outputs": [],
   "source": [
    "NEPOCH = 32"
   ]
  },
  {
   "cell_type": "code",
   "execution_count": null,
   "metadata": {},
   "outputs": [],
   "source": [
    "trainGen = dataGenerator.generate()\n",
    "print(len(trainGen))\n",
    "validGen = dataGenerator.generate(validation=True)"
   ]
  },
  {
   "cell_type": "code",
   "execution_count": null,
   "metadata": {},
   "outputs": [],
   "source": [
    "# def trainYielder():\n",
    "#     while True:\n",
    "#         yield trainGen.__next__()\n",
    "\n",
    "# for x in trainYielder():\n",
    "#     print([y.shape for y in x])"
   ]
  },
  {
   "cell_type": "code",
   "execution_count": null,
   "metadata": {
    "scrolled": true
   },
   "outputs": [],
   "source": [
    "%%time\n",
    "history = nnUtils.fitModelWithDataGenerator(model, dataGenerator, modelname, epochs=NEPOCH)"
   ]
  },
  {
   "cell_type": "code",
   "execution_count": null,
   "metadata": {
    "scrolled": true
   },
   "outputs": [],
   "source": [
    "%%time\n",
    "fpath = os.path.join(datadir, '%s.h5' % modelname)\n",
    "print('Saving to', fpath)\n",
    "model.save(fpath)"
   ]
  },
  {
   "cell_type": "code",
   "execution_count": null,
   "metadata": {},
   "outputs": [],
   "source": [
    "!recent /home/tsbertalan/data2/behavioralCloning/ | head -n 4"
   ]
  },
  {
   "cell_type": "code",
   "execution_count": null,
   "metadata": {},
   "outputs": [],
   "source": [
    "imgs = []\n",
    "responses = []\n",
    "for k in range(1000):\n",
    "    image, response = dataGenerator.getImageResponse(k)\n",
    "    imgs.append(image.reshape((1, *image.shape)))\n",
    "    responses.append(response)\n",
    "X = np.vstack(imgs)\n",
    "Y = np.vstack(responses)"
   ]
  },
  {
   "cell_type": "code",
   "execution_count": null,
   "metadata": {},
   "outputs": [],
   "source": [
    "pred = model.predict(X)\n",
    "pred.shape, Y.shape"
   ]
  },
  {
   "cell_type": "code",
   "execution_count": null,
   "metadata": {},
   "outputs": [],
   "source": [
    "from collections import deque\n",
    "def runningMean(x, N):\n",
    "    y = []\n",
    "    hist = deque(maxlen=N)\n",
    "    for a in x:\n",
    "        hist.append(a)\n",
    "        y.append(np.mean(hist))\n",
    "    return np.array(y)"
   ]
  },
  {
   "cell_type": "code",
   "execution_count": null,
   "metadata": {},
   "outputs": [],
   "source": [
    "fig, ax = plt.subplots()\n",
    "start = 100\n",
    "end = start + 100\n",
    "ax.plot(Y[start:end], label=r'truth $\\theta$')\n",
    "ax.plot(pred[start:end], label=r'predictions $\\hat\\theta$')\n",
    "filtersize = 3\n",
    "scale = 1\n",
    "smoothed = scale * runningMean(pred, filtersize)\n",
    "ax.plot(\n",
    "    smoothed[start:end], \n",
    "    label=r'$\\hat\\rho = %.1f \\cdot box_{%d}(\\hat\\theta)$' % (scale, filtersize)\n",
    ")\n",
    "ax.set_xlabel('time [samples]')\n",
    "ax.set_ylabel('angle [radians]')\n",
    "ax.legend();\n",
    "fig.savefig('smoothingEffect.png')"
   ]
  }
 ],
 "metadata": {
  "kernelspec": {
   "display_name": "Python 3",
   "language": "python",
   "name": "python3"
  },
  "language_info": {
   "codemirror_mode": {
    "name": "ipython",
    "version": 3
   },
   "file_extension": ".py",
   "mimetype": "text/x-python",
   "name": "python",
   "nbconvert_exporter": "python",
   "pygments_lexer": "ipython3",
   "version": "3.5.2"
  }
 },
 "nbformat": 4,
 "nbformat_minor": 2
}
