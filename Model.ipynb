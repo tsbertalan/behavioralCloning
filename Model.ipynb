{
 "cells": [
  {
   "cell_type": "code",
   "execution_count": null,
   "metadata": {},
   "outputs": [],
   "source": [
    "import keras, numpy as np, matplotlib as mpl, matplotlib.pyplot as plt, tqdm\n",
    "import os.path\n",
    "import time\n",
    "%matplotlib inline"
   ]
  },
  {
   "cell_type": "code",
   "execution_count": null,
   "metadata": {},
   "outputs": [],
   "source": [
    "import nnUtils"
   ]
  },
  {
   "cell_type": "code",
   "execution_count": null,
   "metadata": {},
   "outputs": [],
   "source": [
    "import sklearn, sklearn.model_selection"
   ]
  },
  {
   "cell_type": "code",
   "execution_count": null,
   "metadata": {},
   "outputs": [],
   "source": [
    "datadir = os.path.join(os.path.expanduser('~'), 'data2', 'behavioralCloning')"
   ]
  },
  {
   "cell_type": "code",
   "execution_count": null,
   "metadata": {},
   "outputs": [],
   "source": [
    "# data = np.load(os.path.join(datadir, 'multiData-mouseForwardFuller.npz'))\n",
    "# X = data['X']\n",
    "# Y = data['Y'][:, 0].reshape(-1, 1)"
   ]
  },
  {
   "cell_type": "code",
   "execution_count": null,
   "metadata": {},
   "outputs": [],
   "source": [
    "!ls ~/data2/behavioralCloning/*.zip"
   ]
  },
  {
   "cell_type": "code",
   "execution_count": null,
   "metadata": {},
   "outputs": [],
   "source": [
    "import loadData, models\n",
    "\n",
    "from importlib import reload\n",
    "reload(loadData);\n",
    "reload(models);"
   ]
  },
  {
   "cell_type": "code",
   "execution_count": null,
   "metadata": {
    "scrolled": false
   },
   "outputs": [],
   "source": [
    "dataGenerator = loadData.DataGenerator(\n",
    "    [\n",
    "        os.path.join(loadData.HOME, 'data2', 'behavioralCloning', p)\n",
    "        for p in (\n",
    "            'mouseForward.zip',\n",
    "            'mouseReverse.zip',\n",
    "            'longCarefulForward.zip',\n",
    "            'longCarefulReverse.zip',\n",
    "#             'dirtSidesForward.zip',\n",
    "#             'dirtSidesReverse.zip',\n",
    "#             'data_provided.zip',\n",
    "        )\n",
    "    ],\n",
    "    responseKeys=('steering',),# 'throttle', 'brake',)\n",
    "    #verbose=False,\n",
    ")"
   ]
  },
  {
   "cell_type": "code",
   "execution_count": null,
   "metadata": {},
   "outputs": [],
   "source": [
    "NEPOCH = 42"
   ]
  },
  {
   "cell_type": "code",
   "execution_count": null,
   "metadata": {},
   "outputs": [],
   "source": [
    "modelname = 'cropped_nvidia_unactivatedConv_reluFC_finaltanh-kl2p0_bl2p0-mouseLongCare-%depoch' % NEPOCH"
   ]
  },
  {
   "cell_type": "code",
   "execution_count": null,
   "metadata": {},
   "outputs": [],
   "source": [
    "%%time\n",
    "#kernel_regularizer = keras.regularizers.l2(0.0001)\n",
    "#bias_regularizer = keras.regularizers.l2(0.01)\n",
    "Model = models.Nvidia\n",
    "\n",
    "model = Model(\n",
    "    1, dataGenerator.sampleImageShape,\n",
    "    optimizer=keras.optimizers.Nadam(\n",
    "        lr=0.0001, #beta_1=0.9, beta_2=0.999, epsilon=1e-08, schedule_decay=0.004)\n",
    "    ),\n",
    "    #kernel_regularizer=kernel_regularizer,\n",
    "    #bias_regularizer=bias_regularizer,\n",
    ")"
   ]
  },
  {
   "cell_type": "code",
   "execution_count": null,
   "metadata": {},
   "outputs": [],
   "source": [
    "trainGen = dataGenerator.generate(epochSubsampling=1.0)\n",
    "validGen = dataGenerator.generate(validation=True)"
   ]
  },
  {
   "cell_type": "code",
   "execution_count": null,
   "metadata": {},
   "outputs": [],
   "source": [
    "# def trainYielder():\n",
    "#     while True:\n",
    "#         yield trainGen.__next__()\n",
    "\n",
    "# for x in trainYielder():\n",
    "#     print([y.shape for y in x])"
   ]
  },
  {
   "cell_type": "code",
   "execution_count": null,
   "metadata": {
    "scrolled": true
   },
   "outputs": [],
   "source": [
    "%%time\n",
    "history = nnUtils.fitModelWithDataGenerator(model, dataGenerator, modelname, epochs=NEPOCH)"
   ]
  },
  {
   "cell_type": "markdown",
   "metadata": {},
   "source": [
    "Retrain on some other data."
   ]
  },
  {
   "cell_type": "code",
   "execution_count": null,
   "metadata": {},
   "outputs": [],
   "source": [
    "# %%time\n",
    "# dataGenerator = loadData.DataGenerator(\n",
    "#     [\n",
    "#         os.path.join(loadData.HOME, 'data2', 'behavioralCloning', p)\n",
    "#         for p in (\n",
    "#             'longCarefulForward.zip',\n",
    "#             'longCarefulReverse.zip',\n",
    "#         )\n",
    "#     ],\n",
    "#     responseKeys=('steering',),\n",
    "# )\n",
    "# NEPOCH = 4\n",
    "# modelname = 'cropped_nvidia_unactivatedConv_reluFC_finaltanh-kl2p0_bl2p0-longCareRetrain-%depoch' % NEPOCH\n",
    "# trainGen = dataGenerator.generate(epochSubsampling=1.0)\n",
    "# validGen = dataGenerator.generate(validation=True)\n",
    "# history = nnUtils.fitModelWithDataGenerator(model, dataGenerator, modelname, epochs=NEPOCH)"
   ]
  },
  {
   "cell_type": "code",
   "execution_count": null,
   "metadata": {
    "scrolled": true
   },
   "outputs": [],
   "source": [
    "%%time\n",
    "fpath = os.path.join(datadir, '%s.h5' % modelname)\n",
    "print('Saving to', fpath)\n",
    "model.save(fpath)"
   ]
  },
  {
   "cell_type": "code",
   "execution_count": null,
   "metadata": {},
   "outputs": [],
   "source": [
    "!recent /home/tsbertalan/data2/behavioralCloning/ | head -n 4"
   ]
  },
  {
   "cell_type": "code",
   "execution_count": null,
   "metadata": {},
   "outputs": [],
   "source": [
    "modelname"
   ]
  },
  {
   "cell_type": "code",
   "execution_count": null,
   "metadata": {},
   "outputs": [],
   "source": [
    "trainIndices, validationIndices = dataGenerator._indices\n",
    "for ind, lab in zip(dataGenerator._indices, ('train', 'validation')):\n",
    "    \n",
    "    imgs = []\n",
    "    responses = []\n",
    "    for k in range(ind[0], ind[0]+1000):\n",
    "        try:\n",
    "            image, response = dataGenerator.getImageResponse(k)\n",
    "            imgs.append(image.reshape((1, *image.shape)))\n",
    "            responses.append(response)\n",
    "        except KeyError:\n",
    "            break\n",
    "    X = np.vstack(imgs)\n",
    "    Y = np.vstack(responses)\n",
    "\n",
    "    pred = model.predict(X)\n",
    "    pred.shape, Y.shape\n",
    "\n",
    "    from collections import deque\n",
    "    def runningMean(x, N):\n",
    "        y = []\n",
    "        hist = deque(maxlen=N)\n",
    "        for a in x:\n",
    "            hist.append(a)\n",
    "            y.append(np.mean(hist))\n",
    "        return np.array(y)\n",
    "    \n",
    "    ind = np.copy(ind)\n",
    "    ind.sort()\n",
    "    fig, ax = plt.subplots()\n",
    "    start = 0\n",
    "    end = start + 200\n",
    "    ax.plot(Y[start:end], label=r'truth $\\theta$', color='black')\n",
    "    ax.plot(pred[start:end], label=r'predictions $\\hat\\theta$', color='red')\n",
    "    filtersize = 3\n",
    "    scale = 1\n",
    "    smoothed = scale * runningMean(pred, filtersize)\n",
    "    ax.plot(\n",
    "        smoothed[start:end], \n",
    "        label=r'$\\hat\\rho = %.1f \\cdot box_{%d}(\\hat\\theta)$' % (scale, filtersize),\n",
    "        alpha=.25,\n",
    "        color='red',\n",
    "    )\n",
    "    ax.set_xlabel('time [samples]')\n",
    "    ax.set_ylabel('angle [radians]')\n",
    "    ax.set_title(lab)\n",
    "    ax.legend();\n",
    "    fig.savefig('smoothingEffect-%s-%s.png' % (modelname, lab))"
   ]
  }
 ],
 "metadata": {
  "kernelspec": {
   "display_name": "Python 3",
   "language": "python",
   "name": "python3"
  },
  "language_info": {
   "codemirror_mode": {
    "name": "ipython",
    "version": 3
   },
   "file_extension": ".py",
   "mimetype": "text/x-python",
   "name": "python",
   "nbconvert_exporter": "python",
   "pygments_lexer": "ipython3",
   "version": "3.5.2"
  }
 },
 "nbformat": 4,
 "nbformat_minor": 2
}
