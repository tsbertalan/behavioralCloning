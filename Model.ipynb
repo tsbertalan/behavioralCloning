{
 "cells": [
  {
   "cell_type": "code",
   "execution_count": null,
   "metadata": {},
   "outputs": [],
   "source": [
    "import keras, numpy as np, matplotlib as mpl, matplotlib.pyplot as plt, tqdm\n",
    "import os.path\n",
    "import time\n",
    "%matplotlib inline"
   ]
  },
  {
   "cell_type": "code",
   "execution_count": null,
   "metadata": {},
   "outputs": [],
   "source": [
    "import sklearn, sklearn.model_selection"
   ]
  },
  {
   "cell_type": "code",
   "execution_count": null,
   "metadata": {},
   "outputs": [],
   "source": [
    "datadir = os.path.join(os.path.expanduser('~'), 'data2', 'behavioralCloning')"
   ]
  },
  {
   "cell_type": "code",
   "execution_count": null,
   "metadata": {},
   "outputs": [],
   "source": [
    "# data = np.load(os.path.join(datadir, 'multiData-mouseForwardFuller.npz'))\n",
    "# X = data['X']\n",
    "# Y = data['Y'][:, 0].reshape(-1, 1)"
   ]
  },
  {
   "cell_type": "code",
   "execution_count": null,
   "metadata": {},
   "outputs": [],
   "source": [
    "import loadData"
   ]
  },
  {
   "cell_type": "code",
   "execution_count": null,
   "metadata": {},
   "outputs": [],
   "source": [
    "# data = loadData.Data(\n",
    "#     os.path.join(datadir, 'data_provided.zip'), \n",
    "#     MAXDATA=1000\n",
    "# )"
   ]
  },
  {
   "cell_type": "code",
   "execution_count": null,
   "metadata": {},
   "outputs": [],
   "source": [
    "from importlib import reload\n",
    "reload(loadData)"
   ]
  },
  {
   "cell_type": "code",
   "execution_count": null,
   "metadata": {
    "scrolled": false
   },
   "outputs": [],
   "source": [
    "data = loadData.Data(\n",
    "    os.path.join(datadir, 'mouseForward.zip'),\n",
    "    MAXDATA=2000\n",
    ")"
   ]
  },
  {
   "cell_type": "code",
   "execution_count": null,
   "metadata": {},
   "outputs": [],
   "source": [
    "# data = loadData.Data(\n",
    "#     paths=[\n",
    "#         os.path.join(loadData.HOME, 'data2', 'behavioralCloning', p)\n",
    "#         for p in (\n",
    "#             'mouseForward.zip',\n",
    "#             'mouseReverse.zip',\n",
    "#         )\n",
    "#     ],\n",
    "#     MAXDATA=6000,\n",
    "# )"
   ]
  },
  {
   "cell_type": "code",
   "execution_count": null,
   "metadata": {},
   "outputs": [],
   "source": [
    "X = data.X\n",
    "Y = data.Y[:, 0]"
   ]
  },
  {
   "cell_type": "code",
   "execution_count": null,
   "metadata": {},
   "outputs": [],
   "source": [
    "modelname = 'inceptionv3_deeper_wider-mfwd_sidecams-tanh-normalInput'"
   ]
  },
  {
   "cell_type": "code",
   "execution_count": null,
   "metadata": {},
   "outputs": [],
   "source": [
    "X.shape, Y.shape"
   ]
  },
  {
   "cell_type": "code",
   "execution_count": null,
   "metadata": {},
   "outputs": [],
   "source": [
    "def prod(it):\n",
    "    out = 1\n",
    "    for x in it:\n",
    "        try:\n",
    "            out *= float(x)\n",
    "        except TypeError:\n",
    "            out *= int(x)\n",
    "    return out"
   ]
  },
  {
   "cell_type": "code",
   "execution_count": null,
   "metadata": {},
   "outputs": [],
   "source": [
    "%%time\n",
    "def VGG(\n",
    "    nout=1, input_shape=X.shape[1:], doCompile=True, \n",
    "    loss='mse', optimizer='nadam', metrics=['accuracy', 'mae'],\n",
    "    ):\n",
    "    \n",
    "    # Normalize.\n",
    "    x = keras.layers.Input(input_shape)\n",
    "    x = keras.layers.Lambda(lambda y: (y / 255.0) - 0.5)(x)\n",
    "    \n",
    "    model = keras.applications.inception_v3.InceptionV3(\n",
    "        include_top=False, \n",
    "        weights='imagenet', \n",
    "        input_tensor=x,\n",
    "        #input_shape=input_shape, \n",
    "        #pooling=None, \n",
    "        #classes=1000\n",
    "    )\n",
    "    img_input = model.layers[0].input\n",
    "    nUnfrozen = sum([prod(w.shape) for w in model.trainable_weights])\n",
    "    for layer in model.layers:\n",
    "        layer.trainable = False\n",
    "    \n",
    "    # Get flattened output.\n",
    "    x = model.layers[-1].output\n",
    "    print('Pretrained model provides {:,} features.'.format(prod(x.shape[1:])))\n",
    "    x = keras.layers.Flatten()(x)\n",
    "    \n",
    "    \n",
    "    # Add layers.\n",
    "    init = dict(bias_initializer='zeros', kernel_initializer='glorot_normal')\n",
    "    x = keras.layers.Dense(16, activation='relu', **init)(x)\n",
    "#     for k in range(3):\n",
    "#         x = keras.layers.Dense(16, activation='relu', **init)(x)\n",
    "#     x = keras.layers.Dense(16, activation='tanh', name='tanh')(x)\n",
    "#     x = keras.layers.Dense(nout, activation='linear', name='predictions')(x)\n",
    "    for k in range(4):\n",
    "        x = keras.layers.Dense(16, activation='relu', **init)(x)\n",
    "    x = keras.layers.Dense(nout, activation='tanh', name='tanh')(x)\n",
    "    \n",
    "    model = keras.Model(inputs=img_input, outputs=x)\n",
    "    \n",
    "    nFrozen = sum([prod(w.shape) for w in model.trainable_weights])\n",
    "    print(\"Freezing reduces trainable size from {:,} to {:,} parameters.\".format(nUnfrozen, nFrozen))\n",
    "    \n",
    "    if doCompile:\n",
    "        model.compile(\n",
    "            loss=loss,\n",
    "            optimizer=optimizer,\n",
    "            metrics=metrics,\n",
    "        )\n",
    "    return model\n",
    "\n",
    "model = VGG(\n",
    "    optimizer=keras.optimizers.Nadam(\n",
    "        lr=0.0001, #beta_1=0.9, beta_2=0.999, epsilon=1e-08, schedule_decay=0.004)\n",
    "    )\n",
    ")\n"
   ]
  },
  {
   "cell_type": "code",
   "execution_count": null,
   "metadata": {},
   "outputs": [],
   "source": [
    "class TqdmCallback(keras.callbacks.Callback):\n",
    "    def __init__(self, nbatch):\n",
    "        self.pbar = tqdm.tqdm_notebook(total=nbatch, unit='epoch')\n",
    "    \n",
    "    def on_train_begin(self, logs={}):\n",
    "        pass\n",
    "\n",
    "    def on_epoch_end(self, epoch, logs={}):\n",
    "        self.pbar.update()"
   ]
  },
  {
   "cell_type": "code",
   "execution_count": null,
   "metadata": {},
   "outputs": [],
   "source": [
    "NEPOCH = 32"
   ]
  },
  {
   "cell_type": "code",
   "execution_count": null,
   "metadata": {},
   "outputs": [],
   "source": [
    "log_dir = '/home/tsbertalan/tensorboardlogs/behavClon/%s-%s/'% (modelname, time.time())"
   ]
  },
  {
   "cell_type": "code",
   "execution_count": null,
   "metadata": {
    "scrolled": true
   },
   "outputs": [],
   "source": [
    "%%time\n",
    "history = model.fit(\n",
    "    X, Y,\n",
    "    validation_split=.2,\n",
    "    #X_train, Y_train, \n",
    "    #validation_data=(X_valid, Y_valid), \n",
    "    epochs=NEPOCH,\n",
    "    callbacks=[\n",
    "        TqdmCallback(NEPOCH),\n",
    "        keras.callbacks.TensorBoard(\n",
    "            log_dir=log_dir,\n",
    "            #batch_size=32, \n",
    "            write_graph=True, \n",
    "        ),\n",
    "    ],\n",
    "    verbose=0\n",
    ")"
   ]
  },
  {
   "cell_type": "code",
   "execution_count": null,
   "metadata": {
    "scrolled": true
   },
   "outputs": [],
   "source": [
    "%%time\n",
    "fpath = os.path.join(datadir, '%s.h5' % modelname)\n",
    "print('Saving to', fpath)\n",
    "model.save(fpath)"
   ]
  },
  {
   "cell_type": "code",
   "execution_count": null,
   "metadata": {},
   "outputs": [],
   "source": [
    "!recent /home/tsbertalan/data2/behavioralCloning/ | head -n 4"
   ]
  },
  {
   "cell_type": "code",
   "execution_count": null,
   "metadata": {},
   "outputs": [],
   "source": [
    "pred = model.predict(X)\n",
    "pred.shape"
   ]
  },
  {
   "cell_type": "code",
   "execution_count": null,
   "metadata": {},
   "outputs": [],
   "source": [
    "def runningMeanFast(x, N):\n",
    "    return np.convolve(x.ravel(), np.ones((N,))/N)[(N-1):]"
   ]
  },
  {
   "cell_type": "code",
   "execution_count": null,
   "metadata": {},
   "outputs": [],
   "source": [
    "fig, ax = plt.subplots()\n",
    "start = 1450\n",
    "end = start + 200\n",
    "ax.plot(Y[start:end], label=r'truth $\\theta$')\n",
    "ax.plot(pred[start:end], label=r'predictions $\\hat\\theta$')\n",
    "filtersize = 4\n",
    "scale = 1\n",
    "ax.plot(\n",
    "    scale * runningMeanFast(pred[start:end], filtersize), \n",
    "    label=r'$\\hat\\rho = %.1f \\cdot box_{%d}(\\hat\\theta)$' % (scale, filtersize)\n",
    ")\n",
    "ax.legend();"
   ]
  }
 ],
 "metadata": {
  "kernelspec": {
   "display_name": "Python 3",
   "language": "python",
   "name": "python3"
  },
  "language_info": {
   "codemirror_mode": {
    "name": "ipython",
    "version": 3
   },
   "file_extension": ".py",
   "mimetype": "text/x-python",
   "name": "python",
   "nbconvert_exporter": "python",
   "pygments_lexer": "ipython3",
   "version": "3.5.2"
  }
 },
 "nbformat": 4,
 "nbformat_minor": 2
}
