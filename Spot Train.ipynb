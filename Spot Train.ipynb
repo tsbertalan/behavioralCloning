{
 "cells": [
  {
   "cell_type": "code",
   "execution_count": null,
   "metadata": {},
   "outputs": [],
   "source": [
    "import keras, numpy as np, matplotlib as mpl, matplotlib.pyplot as plt, tqdm\n",
    "import os.path\n",
    "import time\n",
    "%matplotlib inline"
   ]
  },
  {
   "cell_type": "code",
   "execution_count": null,
   "metadata": {},
   "outputs": [],
   "source": [
    "from importlib import reload"
   ]
  },
  {
   "cell_type": "code",
   "execution_count": null,
   "metadata": {},
   "outputs": [],
   "source": [
    "import nnUtils\n",
    "reload(nnUtils);"
   ]
  },
  {
   "cell_type": "code",
   "execution_count": null,
   "metadata": {},
   "outputs": [],
   "source": [
    "import loadData\n",
    "reload(loadData);"
   ]
  },
  {
   "cell_type": "code",
   "execution_count": null,
   "metadata": {},
   "outputs": [],
   "source": [
    "datadir = os.path.join(os.path.expanduser('~'), 'data2', 'behavioralCloning')"
   ]
  },
  {
   "cell_type": "code",
   "execution_count": null,
   "metadata": {},
   "outputs": [],
   "source": [
    "dataGenerator = loadData.DataGenerator(\n",
    "    [\n",
    "        os.path.join(loadData.HOME, 'data2', 'behavioralCloning', p)\n",
    "        for p in (\n",
    "            'dirtSidesForward.zip',\n",
    "            'dirtSidesReverse.zip',\n",
    "        )\n",
    "    ],\n",
    "    #MAXDATA=100,\n",
    "    responseKeys=('steering',),# 'throttle', 'brake',)\n",
    ")"
   ]
  },
  {
   "cell_type": "code",
   "execution_count": null,
   "metadata": {},
   "outputs": [],
   "source": [
    "modelName = 'inceptionv3_deeper_wider-mfwd_sidecams-fullgen-tanh-normalInput-dirtRetrain'"
   ]
  },
  {
   "cell_type": "code",
   "execution_count": null,
   "metadata": {},
   "outputs": [],
   "source": [
    "modelPath = os.path.join(\n",
    "    datadir, \n",
    "    'inceptionv3_deeper_wider-mfwd_sidecams-fullgen-tanh-normalInput.h5'\n",
    ")"
   ]
  },
  {
   "cell_type": "code",
   "execution_count": null,
   "metadata": {},
   "outputs": [],
   "source": [
    "model = nnUtils.loadModel(modelPath)"
   ]
  },
  {
   "cell_type": "code",
   "execution_count": null,
   "metadata": {},
   "outputs": [],
   "source": [
    "%%time\n",
    "history = nnUtils.fitModelWithDataGenerator(model, dataGenerator, modelName, epochs=8)"
   ]
  },
  {
   "cell_type": "code",
   "execution_count": null,
   "metadata": {},
   "outputs": [],
   "source": [
    "%%time\n",
    "fpath = os.path.join(datadir, '%s.h5' % modelName)\n",
    "print('Saving to', fpath)\n",
    "model.save(fpath)"
   ]
  }
 ],
 "metadata": {
  "kernelspec": {
   "display_name": "Python 3",
   "language": "python",
   "name": "python3"
  },
  "language_info": {
   "codemirror_mode": {
    "name": "ipython",
    "version": 3
   },
   "file_extension": ".py",
   "mimetype": "text/x-python",
   "name": "python",
   "nbconvert_exporter": "python",
   "pygments_lexer": "ipython3",
   "version": "3.5.2"
  }
 },
 "nbformat": 4,
 "nbformat_minor": 2
}
