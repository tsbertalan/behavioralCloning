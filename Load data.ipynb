{
 "cells": [
  {
   "cell_type": "code",
   "execution_count": null,
   "metadata": {},
   "outputs": [],
   "source": [
    "import numpy as np\n",
    "import tqdm\n",
    "from scipy import misc\n",
    "import pandas as pd\n",
    "import os.path\n",
    "import matplotlib.pyplot as plt, matplotlib as mpl\n",
    "%matplotlib inline"
   ]
  },
  {
   "cell_type": "code",
   "execution_count": null,
   "metadata": {},
   "outputs": [],
   "source": [
    "import loadData, os"
   ]
  },
  {
   "cell_type": "code",
   "execution_count": null,
   "metadata": {},
   "outputs": [],
   "source": [
    "ls /home/tsbertalan/data2/behavioralCloning/*.zip"
   ]
  },
  {
   "cell_type": "code",
   "execution_count": null,
   "metadata": {},
   "outputs": [],
   "source": [
    "dataGenerator = loadData.CenterOnlyDataGenerator(\n",
    "    [\n",
    "        os.path.join(loadData.HOME, 'data2', 'behavioralCloning', p)\n",
    "        for p in (\n",
    "            'data_provided.zip',\n",
    "            'mouseForward.zip',\n",
    "            'mouseReverse.zip',\n",
    "        )\n",
    "    ],\n",
    ")\n",
    "gen = dataGenerator.generate(stopOnEnd=True, epochSubsampling=.2)\n",
    "Yunbalanced = np.vstack([y for (x, y) in tqdm.tqdm_notebook(gen)])"
   ]
  },
  {
   "cell_type": "code",
   "execution_count": null,
   "metadata": {},
   "outputs": [],
   "source": [
    "import random\n",
    "_LCR = ('left', 'center', 'right')\n",
    "\n",
    "# This way produces two big spikes for the left/right cameras associated with the zero-angle rows.\n",
    "\n",
    "# class DeemphasizedZeroDataGenerator(loadData.DataGenerator):\n",
    "#     zeroKeepProbability = .07\n",
    "#     sideCameraChance = .6\n",
    "    \n",
    "#     rowsPerSample = 1\n",
    "#     def sample(self, validation=False):\n",
    "#         # Could be really inefficient; we read 3*n images, where n depends on the number of failed draws!\n",
    "#         # In practice, though, we don't seem to fail too much.\n",
    "#         p = lambda: random.uniform(0, 1)\n",
    "#         while True:\n",
    "#             X, Y = super().sample(validation=validation)\n",
    "#             if p() < self.sideCameraChance:\n",
    "#                 i = random.choice([0, 2])\n",
    "#                 x, y = X[i], Y[i]\n",
    "#                 break\n",
    "#             elif p() < self.zeroKeepProbability:\n",
    "#                 x, y = X[1], Y[1]\n",
    "#                 break\n",
    "#         return x.reshape((1, *x.shape)), y\n",
    "\n",
    "class DeemphasizedZeroDataGenerator(loadData.DataGenerator):\n",
    "    zeroKeepProbability = .07\n",
    "    \n",
    "    def sampleRow(self, validation=False):\n",
    "\n",
    "        while True:\n",
    "            # Get the index and increment the state.\n",
    "            indices = self._indices[validation]\n",
    "            state = self._state[validation]\n",
    "            j = indices[state]\n",
    "\n",
    "            # Reset or increment the counter.\n",
    "            if self._state[validation] == len(indices) - 1:\n",
    "                self._state[validation] = 0\n",
    "            else:\n",
    "                self._state[validation] += 1\n",
    "\n",
    "            # Get the left, center, and right image paths\n",
    "            # and corresponding requested response variables.\n",
    "            lcrImagePaths = [self.log.at[j, key] for key in _LCR]\n",
    "            response = np.array([self.log.at[j, key] for key in self.responseKeys])\n",
    "            \n",
    "            # Check for acceptable steering angle.\n",
    "            if response[0] != 0 or np.random.uniform(0, 1) < self.zeroKeepProbability:\n",
    "                break\n",
    "            \n",
    "        return lcrImagePaths, response"
   ]
  },
  {
   "cell_type": "code",
   "execution_count": null,
   "metadata": {},
   "outputs": [],
   "source": [
    "dataGenerator = DeemphasizedZeroDataGenerator(\n",
    "    os.path.join(loadData.HOME, 'data2', 'behavioralCloning', 'data_provided.zip')\n",
    ")"
   ]
  },
  {
   "cell_type": "code",
   "execution_count": null,
   "metadata": {},
   "outputs": [],
   "source": [
    "Ybalanced = np.vstack([dataGenerator.sample()[1] for _ in tqdm.tqdm_notebook(range(3000))])\n",
    "\n",
    "fig, ax = plt.subplots()\n",
    "kw = dict(bins=64, alpha=.25, normed=True)\n",
    "ubN, ubBins, ubPatches = ax.hist(Yunbalanced, label='full distribution', color='red', **kw)\n",
    "ubPatches[0].set_label('full distribution\\n(max normed count is %.3g)' % max(ubN))\n",
    "ax.hist(Ybalanced, label='zero-centered kept w.p. %s' % dataGenerator.zeroKeepProbability, color='blue', **kw)\n",
    "# ax.set_xlim(-.25, .25)\n",
    "ax.set_ylim(0, 4)\n",
    "ax.legend(fontsize=12, loc='right')\n",
    "ax.set_xlabel('turn angle [rad]')\n",
    "ax.set_ylabel('normed count');\n",
    "fig.savefig('doc/zeroCenteredKeptWP%s.png' % str(dataGenerator.zeroKeepProbability).replace('.', 'p'))"
   ]
  }
 ],
 "metadata": {
  "kernelspec": {
   "display_name": "Python 3",
   "language": "python",
   "name": "python3"
  },
  "language_info": {
   "codemirror_mode": {
    "name": "ipython",
    "version": 3
   },
   "file_extension": ".py",
   "mimetype": "text/x-python",
   "name": "python",
   "nbconvert_exporter": "python",
   "pygments_lexer": "ipython3",
   "version": "3.5.2"
  }
 },
 "nbformat": 4,
 "nbformat_minor": 2
}
