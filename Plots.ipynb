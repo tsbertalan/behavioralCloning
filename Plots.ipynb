{
 "cells": [
  {
   "cell_type": "code",
   "execution_count": null,
   "metadata": {},
   "outputs": [],
   "source": [
    "import os\n",
    "\n",
    "import numpy as np, matplotlib.pyplot as plt, tqdm\n",
    "%matplotlib inline"
   ]
  },
  {
   "cell_type": "code",
   "execution_count": null,
   "metadata": {},
   "outputs": [],
   "source": [
    "from importlib import reload\n",
    "\n",
    "import loadData\n",
    "reload(loadData)"
   ]
  },
  {
   "cell_type": "code",
   "execution_count": null,
   "metadata": {},
   "outputs": [],
   "source": [
    "data = loadData.DeemphasizedZeroDataGenerator(\n",
    "    [os.path.join(loadData.HOME, 'data2', 'behavioralCloning', 'data_provided.zip')],\n",
    "    responseKeys=('steering', 'throttle', 'brake', 'speed',)\n",
    ")"
   ]
  },
  {
   "cell_type": "code",
   "execution_count": null,
   "metadata": {},
   "outputs": [],
   "source": [
    "# start = 300\n",
    "# XY = [data.getImageResponse(i) for i in tqdm.tqdm_notebook(range(start, start+100))]\n",
    "# allowed = [i for (i, (x,y)) in enumerate(XY) if y[0] != 0]\n",
    "# X = np.vstack([x.reshape((1, *x.shape)) for (x,y) in XY if y[0] != 0])\n",
    "# Y = np.vstack([y for (x,y) in XY if y[0] != 0])\n",
    "\n",
    "# for i in range(min(24, len(Y))):\n",
    "#     x = X[i]; y = Y[i]\n",
    "#     fig, ax = loadData.showxy(x.astype('uint8'), y, l1kwargs=dict(linewidth=4, color='red'));\n",
    "#     ax.set_title(start+allowed[i])"
   ]
  },
  {
   "cell_type": "code",
   "execution_count": null,
   "metadata": {},
   "outputs": [],
   "source": [
    "data.responseKeys"
   ]
  },
  {
   "cell_type": "code",
   "execution_count": null,
   "metadata": {},
   "outputs": [],
   "source": [
    "x, y = data.getImageResponse(357)\n",
    "fig, ax = plt.subplots(figsize=(8, 4))\n",
    "fig, ax = loadData.showxy(x, y, ax=ax, l1kwargs=dict(linewidth=4, color='red'));\n",
    "ax.set_title(', '.join([\n",
    "    '%s: %.3g' % (k, v)\n",
    "    for (k, v) in zip(data.responseKeys, y)\n",
    "]), fontsize=16);\n",
    "fig.suptitle('cropped view')\n",
    "fig.savefig('doc/cropped.png')"
   ]
  },
  {
   "cell_type": "code",
   "execution_count": null,
   "metadata": {},
   "outputs": [],
   "source": [
    "x, y = data.getImageResponse(357, key='left')\n",
    "   \n",
    "fig, ax = plt.subplots(figsize=(8, 4))\n",
    "fig, ax = loadData.showxy(x, [y[0]+data.sidecamAdjustments[0]], ax=ax, l1kwargs=dict(linewidth=4, color='red'));\n",
    "y = list(y)\n",
    "y[0] = '%.3g + %.3g' % (y[0], data.sidecamAdjustments[0])\n",
    "for i in range(1, 4):\n",
    "    y[i] = '%.3g' % y[i]\n",
    "ax.set_title(', '.join([\n",
    "    '%s: %s' % (k, v)\n",
    "    for (k, v) in zip(data.responseKeys, y)\n",
    "]), fontsize=16);\n",
    "fig.suptitle('cropped left view')\n",
    "fig.savefig('doc/croppedleft.png')"
   ]
  }
 ],
 "metadata": {
  "kernelspec": {
   "display_name": "Python 3",
   "language": "python",
   "name": "python3"
  },
  "language_info": {
   "codemirror_mode": {
    "name": "ipython",
    "version": 3
   },
   "file_extension": ".py",
   "mimetype": "text/x-python",
   "name": "python",
   "nbconvert_exporter": "python",
   "pygments_lexer": "ipython3",
   "version": "3.5.2"
  }
 },
 "nbformat": 4,
 "nbformat_minor": 2
}
